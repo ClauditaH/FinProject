{
 "cells": [
  {
   "cell_type": "code",
   "execution_count": null,
   "metadata": {},
   "outputs": [],
   "source": []
  },
  {
   "cell_type": "markdown",
   "metadata": {},
   "source": [
    "# Company Financials Dataset"
   ]
  },
  {
   "cell_type": "markdown",
   "metadata": {},
   "source": [
    "Este conjunto de datos es un archivo que representa un resumen de ventas y beneficios por mercado, país/región, producto y otros factores clave. \n",
    "\n",
    "A continuación se presenta un desglose detallado de cada columna: \n",
    "\n",
    "* **Segment**: Representa el segmento de mercado (*e.g., Government, Midmarket, Enterprise*). Sirve para identificar la contribución de cada segmento al total de las ventas y beneficios.\n",
    "* **Country**: Es el país o región donde se realizaron las ventas. Permite localizar los mercados más fuertes geográficamente.\n",
    "* **Product**: El tipo de producto vendido (*e.g., Carretera, Montana, Paseo*). Esto ayuda a analizar qué productos son los más populares y rentables.\n",
    "* **Discount Band**: Representa el nivel de descuento aplicado. En este caso, parece que todos los descuentos son \"None\", lo que indica que no hubo descuentos aplicados directamente.\n",
    "* **Units Sold**: El número de unidades vendidas. Es un factor clave para calcular las métricas de ventas y beneficios.\n",
    "* **Manufacturing Price**: El costo de fabricación por unidad del producto. Sirve para calcular márgenes de ganancia.\n",
    "* **Sale Price**: El precio de venta por unidad. Refleja la estrategia de precios de la empresa.\n",
    "* **Gross Sales**: Ingresos brutos generados antes de aplicar descuentos. Calculado como:\n",
    "\n",
    "        Gross Sales = Units Sold x Sale Price\n",
    "\n",
    "* **Discounts**: Los descuentos totales aplicados. En este dataset aparecen como $-, lo que implica que no hubo descuentos registrados.\n",
    "* **Sales**: Ventas netas, después de descuentos. En este caso, como no hay descuentos, **Gross Sales = Sales**.\n",
    "* **COGS** (Cost of Goods Sold): El costo de los bienes vendidos. Calculado como:\n",
    "\n",
    "        COGS = Units Sold x Manufacturing Price\n",
    "\n",
    "* **Profit**: La ganancia neta obtenida. Calculada como:\n",
    "\n",
    "        Profit = Sales - COGS\n",
    "\n",
    "* **Date, Month Number, Month Name, Year**: Información temporal que detalla cuándo se realizó la venta. Esto es útil para identificar tendencias estacionales y patrones de compra."
   ]
  },
  {
   "cell_type": "markdown",
   "metadata": {},
   "source": [
    "## Lectura de Datos"
   ]
  },
  {
   "cell_type": "code",
   "execution_count": null,
   "metadata": {},
   "outputs": [],
   "source": []
  },
  {
   "cell_type": "markdown",
   "metadata": {},
   "source": []
  },
  {
   "cell_type": "code",
   "execution_count": null,
   "metadata": {},
   "outputs": [],
   "source": []
  },
  {
   "cell_type": "code",
   "execution_count": null,
   "metadata": {},
   "outputs": [],
   "source": []
  },
  {
   "cell_type": "code",
   "execution_count": null,
   "metadata": {},
   "outputs": [],
   "source": []
  },
  {
   "cell_type": "code",
   "execution_count": 1,
   "metadata": {},
   "outputs": [],
   "source": [
    "pip install pandas matplotlib seaborn plotly geopandas folium\n"
   ]
  },
  {
   "cell_type": "code",
   "execution_count": 1,
   "metadata": {},
   "outputs": [],
   "source": [
    "import csv as csv\n",
    "from statistics import mean\n",
    "import pandas as pd"
   ]
  },
  {
   "cell_type": "code",
   "execution_count": 2,
   "metadata": {},
   "outputs": [],
   "source": [
    "import matplotlib.pyplot as plt\n",
    "import seaborn as sns\n",
    "import seaborn as sns\n",
    "import plotly.express as px\n",
    "import geopandas as gpd\n",
    "import folium"
   ]
  },
  {
   "cell_type": "code",
   "execution_count": 3,
   "metadata": {},
   "outputs": [
    {
     "data": {
      "text/html": [
       "<div>\n",
       "<style scoped>\n",
       "    .dataframe tbody tr th:only-of-type {\n",
       "        vertical-align: middle;\n",
       "    }\n",
       "\n",
       "    .dataframe tbody tr th {\n",
       "        vertical-align: top;\n",
       "    }\n",
       "\n",
       "    .dataframe thead th {\n",
       "        text-align: right;\n",
       "    }\n",
       "</style>\n",
       "<table border=\"1\" class=\"dataframe\">\n",
       "  <thead>\n",
       "    <tr style=\"text-align: right;\">\n",
       "      <th></th>\n",
       "      <th>Segment</th>\n",
       "      <th>Country</th>\n",
       "      <th>Product</th>\n",
       "      <th>Discount Band</th>\n",
       "      <th>Units Sold</th>\n",
       "      <th>Manufacturing Price</th>\n",
       "      <th>Sale Price</th>\n",
       "      <th>Gross Sales</th>\n",
       "      <th>Discounts</th>\n",
       "      <th>Sales</th>\n",
       "      <th>COGS</th>\n",
       "      <th>Profit</th>\n",
       "      <th>Date</th>\n",
       "      <th>Month Number</th>\n",
       "      <th>Month Name</th>\n",
       "      <th>Year</th>\n",
       "    </tr>\n",
       "  </thead>\n",
       "  <tbody>\n",
       "    <tr>\n",
       "      <th>0</th>\n",
       "      <td>Government</td>\n",
       "      <td>Canada</td>\n",
       "      <td>Carretera</td>\n",
       "      <td>None</td>\n",
       "      <td>$1,618.50</td>\n",
       "      <td>$3.00</td>\n",
       "      <td>$20.00</td>\n",
       "      <td>$32,370.00</td>\n",
       "      <td>$-</td>\n",
       "      <td>$32,370.00</td>\n",
       "      <td>$16,185.00</td>\n",
       "      <td>$16,185.00</td>\n",
       "      <td>01/01/2014</td>\n",
       "      <td>1</td>\n",
       "      <td>January</td>\n",
       "      <td>2014</td>\n",
       "    </tr>\n",
       "    <tr>\n",
       "      <th>1</th>\n",
       "      <td>Government</td>\n",
       "      <td>Germany</td>\n",
       "      <td>Carretera</td>\n",
       "      <td>None</td>\n",
       "      <td>$1,321.00</td>\n",
       "      <td>$3.00</td>\n",
       "      <td>$20.00</td>\n",
       "      <td>$26,420.00</td>\n",
       "      <td>$-</td>\n",
       "      <td>$26,420.00</td>\n",
       "      <td>$13,210.00</td>\n",
       "      <td>$13,210.00</td>\n",
       "      <td>01/01/2014</td>\n",
       "      <td>1</td>\n",
       "      <td>January</td>\n",
       "      <td>2014</td>\n",
       "    </tr>\n",
       "    <tr>\n",
       "      <th>2</th>\n",
       "      <td>Midmarket</td>\n",
       "      <td>France</td>\n",
       "      <td>Carretera</td>\n",
       "      <td>None</td>\n",
       "      <td>$2,178.00</td>\n",
       "      <td>$3.00</td>\n",
       "      <td>$15.00</td>\n",
       "      <td>$32,670.00</td>\n",
       "      <td>$-</td>\n",
       "      <td>$32,670.00</td>\n",
       "      <td>$21,780.00</td>\n",
       "      <td>$10,890.00</td>\n",
       "      <td>01/06/2014</td>\n",
       "      <td>6</td>\n",
       "      <td>June</td>\n",
       "      <td>2014</td>\n",
       "    </tr>\n",
       "    <tr>\n",
       "      <th>3</th>\n",
       "      <td>Midmarket</td>\n",
       "      <td>Germany</td>\n",
       "      <td>Carretera</td>\n",
       "      <td>None</td>\n",
       "      <td>$888.00</td>\n",
       "      <td>$3.00</td>\n",
       "      <td>$15.00</td>\n",
       "      <td>$13,320.00</td>\n",
       "      <td>$-</td>\n",
       "      <td>$13,320.00</td>\n",
       "      <td>$8,880.00</td>\n",
       "      <td>$4,440.00</td>\n",
       "      <td>01/06/2014</td>\n",
       "      <td>6</td>\n",
       "      <td>June</td>\n",
       "      <td>2014</td>\n",
       "    </tr>\n",
       "    <tr>\n",
       "      <th>4</th>\n",
       "      <td>Midmarket</td>\n",
       "      <td>Mexico</td>\n",
       "      <td>Carretera</td>\n",
       "      <td>None</td>\n",
       "      <td>$2,470.00</td>\n",
       "      <td>$3.00</td>\n",
       "      <td>$15.00</td>\n",
       "      <td>$37,050.00</td>\n",
       "      <td>$-</td>\n",
       "      <td>$37,050.00</td>\n",
       "      <td>$24,700.00</td>\n",
       "      <td>$12,350.00</td>\n",
       "      <td>01/06/2014</td>\n",
       "      <td>6</td>\n",
       "      <td>June</td>\n",
       "      <td>2014</td>\n",
       "    </tr>\n",
       "  </tbody>\n",
       "</table>\n",
       "</div>"
      ],
      "text/plain": [
       "      Segment  Country     Product   Discount Band   Units Sold   \\\n",
       "0  Government   Canada   Carretera            None    $1,618.50    \n",
       "1  Government  Germany   Carretera            None    $1,321.00    \n",
       "2   Midmarket   France   Carretera            None    $2,178.00    \n",
       "3   Midmarket  Germany   Carretera            None      $888.00    \n",
       "4   Midmarket   Mexico   Carretera            None    $2,470.00    \n",
       "\n",
       "   Manufacturing Price   Sale Price   Gross Sales   Discounts         Sales   \\\n",
       "0                $3.00       $20.00    $32,370.00        $-      $32,370.00    \n",
       "1                $3.00       $20.00    $26,420.00        $-      $26,420.00    \n",
       "2                $3.00       $15.00    $32,670.00        $-      $32,670.00    \n",
       "3                $3.00       $15.00    $13,320.00        $-      $13,320.00    \n",
       "4                $3.00       $15.00    $37,050.00        $-      $37,050.00    \n",
       "\n",
       "          COGS        Profit         Date  Month Number  Month Name   Year  \n",
       "0   $16,185.00    $16,185.00   01/01/2014             1     January   2014  \n",
       "1   $13,210.00    $13,210.00   01/01/2014             1     January   2014  \n",
       "2   $21,780.00    $10,890.00   01/06/2014             6        June   2014  \n",
       "3    $8,880.00     $4,440.00   01/06/2014             6        June   2014  \n",
       "4   $24,700.00    $12,350.00   01/06/2014             6        June   2014  "
      ]
     },
     "execution_count": 3,
     "metadata": {},
     "output_type": "execute_result"
    }
   ],
   "source": [
    "datos_df = pd.read_csv('./data/Financials.csv')\n",
    "datos_df.head()"
   ]
  },
  {
   "cell_type": "code",
   "execution_count": 4,
   "metadata": {},
   "outputs": [
    {
     "data": {
      "text/html": [
       "<div>\n",
       "<style scoped>\n",
       "    .dataframe tbody tr th:only-of-type {\n",
       "        vertical-align: middle;\n",
       "    }\n",
       "\n",
       "    .dataframe tbody tr th {\n",
       "        vertical-align: top;\n",
       "    }\n",
       "\n",
       "    .dataframe thead th {\n",
       "        text-align: right;\n",
       "    }\n",
       "</style>\n",
       "<table border=\"1\" class=\"dataframe\">\n",
       "  <thead>\n",
       "    <tr style=\"text-align: right;\">\n",
       "      <th></th>\n",
       "      <th>Segment</th>\n",
       "      <th>Country</th>\n",
       "      <th>Product</th>\n",
       "      <th>Discount Band</th>\n",
       "      <th>Units Sold</th>\n",
       "      <th>Manufacturing Price</th>\n",
       "      <th>Sale Price</th>\n",
       "      <th>Gross Sales</th>\n",
       "      <th>Discounts</th>\n",
       "      <th>Sales</th>\n",
       "      <th>COGS</th>\n",
       "      <th>Profit</th>\n",
       "      <th>Date</th>\n",
       "      <th>Month Number</th>\n",
       "      <th>Month Name</th>\n",
       "      <th>Year</th>\n",
       "    </tr>\n",
       "  </thead>\n",
       "  <tbody>\n",
       "    <tr>\n",
       "      <th>0</th>\n",
       "      <td>Government</td>\n",
       "      <td>Canada</td>\n",
       "      <td>Carretera</td>\n",
       "      <td>None</td>\n",
       "      <td>$1,618.50</td>\n",
       "      <td>$3.00</td>\n",
       "      <td>$20.00</td>\n",
       "      <td>$32,370.00</td>\n",
       "      <td>$-</td>\n",
       "      <td>$32,370.00</td>\n",
       "      <td>$16,185.00</td>\n",
       "      <td>$16,185.00</td>\n",
       "      <td>01/01/2014</td>\n",
       "      <td>1</td>\n",
       "      <td>January</td>\n",
       "      <td>2014</td>\n",
       "    </tr>\n",
       "    <tr>\n",
       "      <th>1</th>\n",
       "      <td>Government</td>\n",
       "      <td>Germany</td>\n",
       "      <td>Carretera</td>\n",
       "      <td>None</td>\n",
       "      <td>$1,321.00</td>\n",
       "      <td>$3.00</td>\n",
       "      <td>$20.00</td>\n",
       "      <td>$26,420.00</td>\n",
       "      <td>$-</td>\n",
       "      <td>$26,420.00</td>\n",
       "      <td>$13,210.00</td>\n",
       "      <td>$13,210.00</td>\n",
       "      <td>01/01/2014</td>\n",
       "      <td>1</td>\n",
       "      <td>January</td>\n",
       "      <td>2014</td>\n",
       "    </tr>\n",
       "    <tr>\n",
       "      <th>2</th>\n",
       "      <td>Midmarket</td>\n",
       "      <td>France</td>\n",
       "      <td>Carretera</td>\n",
       "      <td>None</td>\n",
       "      <td>$2,178.00</td>\n",
       "      <td>$3.00</td>\n",
       "      <td>$15.00</td>\n",
       "      <td>$32,670.00</td>\n",
       "      <td>$-</td>\n",
       "      <td>$32,670.00</td>\n",
       "      <td>$21,780.00</td>\n",
       "      <td>$10,890.00</td>\n",
       "      <td>01/06/2014</td>\n",
       "      <td>6</td>\n",
       "      <td>June</td>\n",
       "      <td>2014</td>\n",
       "    </tr>\n",
       "    <tr>\n",
       "      <th>3</th>\n",
       "      <td>Midmarket</td>\n",
       "      <td>Germany</td>\n",
       "      <td>Carretera</td>\n",
       "      <td>None</td>\n",
       "      <td>$888.00</td>\n",
       "      <td>$3.00</td>\n",
       "      <td>$15.00</td>\n",
       "      <td>$13,320.00</td>\n",
       "      <td>$-</td>\n",
       "      <td>$13,320.00</td>\n",
       "      <td>$8,880.00</td>\n",
       "      <td>$4,440.00</td>\n",
       "      <td>01/06/2014</td>\n",
       "      <td>6</td>\n",
       "      <td>June</td>\n",
       "      <td>2014</td>\n",
       "    </tr>\n",
       "    <tr>\n",
       "      <th>4</th>\n",
       "      <td>Midmarket</td>\n",
       "      <td>Mexico</td>\n",
       "      <td>Carretera</td>\n",
       "      <td>None</td>\n",
       "      <td>$2,470.00</td>\n",
       "      <td>$3.00</td>\n",
       "      <td>$15.00</td>\n",
       "      <td>$37,050.00</td>\n",
       "      <td>$-</td>\n",
       "      <td>$37,050.00</td>\n",
       "      <td>$24,700.00</td>\n",
       "      <td>$12,350.00</td>\n",
       "      <td>01/06/2014</td>\n",
       "      <td>6</td>\n",
       "      <td>June</td>\n",
       "      <td>2014</td>\n",
       "    </tr>\n",
       "    <tr>\n",
       "      <th>...</th>\n",
       "      <td>...</td>\n",
       "      <td>...</td>\n",
       "      <td>...</td>\n",
       "      <td>...</td>\n",
       "      <td>...</td>\n",
       "      <td>...</td>\n",
       "      <td>...</td>\n",
       "      <td>...</td>\n",
       "      <td>...</td>\n",
       "      <td>...</td>\n",
       "      <td>...</td>\n",
       "      <td>...</td>\n",
       "      <td>...</td>\n",
       "      <td>...</td>\n",
       "      <td>...</td>\n",
       "      <td>...</td>\n",
       "    </tr>\n",
       "    <tr>\n",
       "      <th>695</th>\n",
       "      <td>Small Business</td>\n",
       "      <td>France</td>\n",
       "      <td>Amarilla</td>\n",
       "      <td>High</td>\n",
       "      <td>$2,475.00</td>\n",
       "      <td>$260.00</td>\n",
       "      <td>$300.00</td>\n",
       "      <td>$7,42,500.00</td>\n",
       "      <td>$1,11,375.00</td>\n",
       "      <td>$6,31,125.00</td>\n",
       "      <td>$6,18,750.00</td>\n",
       "      <td>$12,375.00</td>\n",
       "      <td>01/03/2014</td>\n",
       "      <td>3</td>\n",
       "      <td>March</td>\n",
       "      <td>2014</td>\n",
       "    </tr>\n",
       "    <tr>\n",
       "      <th>696</th>\n",
       "      <td>Small Business</td>\n",
       "      <td>Mexico</td>\n",
       "      <td>Amarilla</td>\n",
       "      <td>High</td>\n",
       "      <td>$546.00</td>\n",
       "      <td>$260.00</td>\n",
       "      <td>$300.00</td>\n",
       "      <td>$1,63,800.00</td>\n",
       "      <td>$24,570.00</td>\n",
       "      <td>$1,39,230.00</td>\n",
       "      <td>$1,36,500.00</td>\n",
       "      <td>$2,730.00</td>\n",
       "      <td>01/10/2014</td>\n",
       "      <td>10</td>\n",
       "      <td>October</td>\n",
       "      <td>2014</td>\n",
       "    </tr>\n",
       "    <tr>\n",
       "      <th>697</th>\n",
       "      <td>Government</td>\n",
       "      <td>Mexico</td>\n",
       "      <td>Montana</td>\n",
       "      <td>High</td>\n",
       "      <td>$1,368.00</td>\n",
       "      <td>$5.00</td>\n",
       "      <td>$7.00</td>\n",
       "      <td>$9,576.00</td>\n",
       "      <td>$1,436.40</td>\n",
       "      <td>$8,139.60</td>\n",
       "      <td>$6,840.00</td>\n",
       "      <td>$1,299.60</td>\n",
       "      <td>01/02/2014</td>\n",
       "      <td>2</td>\n",
       "      <td>February</td>\n",
       "      <td>2014</td>\n",
       "    </tr>\n",
       "    <tr>\n",
       "      <th>698</th>\n",
       "      <td>Government</td>\n",
       "      <td>Canada</td>\n",
       "      <td>Paseo</td>\n",
       "      <td>High</td>\n",
       "      <td>$723.00</td>\n",
       "      <td>$10.00</td>\n",
       "      <td>$7.00</td>\n",
       "      <td>$5,061.00</td>\n",
       "      <td>$759.15</td>\n",
       "      <td>$4,301.85</td>\n",
       "      <td>$3,615.00</td>\n",
       "      <td>$686.85</td>\n",
       "      <td>01/04/2014</td>\n",
       "      <td>4</td>\n",
       "      <td>April</td>\n",
       "      <td>2014</td>\n",
       "    </tr>\n",
       "    <tr>\n",
       "      <th>699</th>\n",
       "      <td>Channel Partners</td>\n",
       "      <td>United States of America</td>\n",
       "      <td>VTT</td>\n",
       "      <td>High</td>\n",
       "      <td>$1,806.00</td>\n",
       "      <td>$250.00</td>\n",
       "      <td>$12.00</td>\n",
       "      <td>$21,672.00</td>\n",
       "      <td>$3,250.80</td>\n",
       "      <td>$18,421.20</td>\n",
       "      <td>$5,418.00</td>\n",
       "      <td>$13,003.20</td>\n",
       "      <td>01/05/2014</td>\n",
       "      <td>5</td>\n",
       "      <td>May</td>\n",
       "      <td>2014</td>\n",
       "    </tr>\n",
       "  </tbody>\n",
       "</table>\n",
       "<p>700 rows × 16 columns</p>\n",
       "</div>"
      ],
      "text/plain": [
       "              Segment                   Country     Product   Discount Band   \\\n",
       "0          Government                    Canada   Carretera            None    \n",
       "1          Government                   Germany   Carretera            None    \n",
       "2           Midmarket                    France   Carretera            None    \n",
       "3           Midmarket                   Germany   Carretera            None    \n",
       "4           Midmarket                    Mexico   Carretera            None    \n",
       "..                ...                       ...          ...             ...   \n",
       "695    Small Business                    France    Amarilla            High    \n",
       "696    Small Business                    Mexico    Amarilla            High    \n",
       "697        Government                    Mexico     Montana            High    \n",
       "698        Government                    Canada       Paseo            High    \n",
       "699  Channel Partners  United States of America         VTT            High    \n",
       "\n",
       "     Units Sold   Manufacturing Price   Sale Price     Gross Sales   \\\n",
       "0     $1,618.50                 $3.00       $20.00      $32,370.00    \n",
       "1     $1,321.00                 $3.00       $20.00      $26,420.00    \n",
       "2     $2,178.00                 $3.00       $15.00      $32,670.00    \n",
       "3       $888.00                 $3.00       $15.00      $13,320.00    \n",
       "4     $2,470.00                 $3.00       $15.00      $37,050.00    \n",
       "..           ...                   ...          ...             ...   \n",
       "695   $2,475.00               $260.00      $300.00    $7,42,500.00    \n",
       "696     $546.00               $260.00      $300.00    $1,63,800.00    \n",
       "697   $1,368.00                 $5.00        $7.00       $9,576.00    \n",
       "698     $723.00                $10.00        $7.00       $5,061.00    \n",
       "699   $1,806.00               $250.00       $12.00      $21,672.00    \n",
       "\n",
       "         Discounts           Sales            COGS        Profit         Date  \\\n",
       "0             $-        $32,370.00      $16,185.00    $16,185.00   01/01/2014   \n",
       "1             $-        $26,420.00      $13,210.00    $13,210.00   01/01/2014   \n",
       "2             $-        $32,670.00      $21,780.00    $10,890.00   01/06/2014   \n",
       "3             $-        $13,320.00       $8,880.00     $4,440.00   01/06/2014   \n",
       "4             $-        $37,050.00      $24,700.00    $12,350.00   01/06/2014   \n",
       "..              ...             ...             ...           ...         ...   \n",
       "695   $1,11,375.00    $6,31,125.00    $6,18,750.00    $12,375.00   01/03/2014   \n",
       "696     $24,570.00    $1,39,230.00    $1,36,500.00     $2,730.00   01/10/2014   \n",
       "697      $1,436.40       $8,139.60       $6,840.00     $1,299.60   01/02/2014   \n",
       "698        $759.15       $4,301.85       $3,615.00       $686.85   01/04/2014   \n",
       "699      $3,250.80      $18,421.20       $5,418.00    $13,003.20   01/05/2014   \n",
       "\n",
       "     Month Number  Month Name   Year  \n",
       "0               1     January   2014  \n",
       "1               1     January   2014  \n",
       "2               6        June   2014  \n",
       "3               6        June   2014  \n",
       "4               6        June   2014  \n",
       "..            ...          ...   ...  \n",
       "695             3       March   2014  \n",
       "696            10     October   2014  \n",
       "697             2    February   2014  \n",
       "698             4       April   2014  \n",
       "699             5         May   2014  \n",
       "\n",
       "[700 rows x 16 columns]"
      ]
     },
     "metadata": {},
     "output_type": "display_data"
    }
   ],
   "source": [
    "from IPython.display import display\n",
    "display(datos_df)"
   ]
  },
  {
   "cell_type": "markdown",
   "metadata": {},
   "source": [
    "### Información general y descripción estadística"
   ]
  },
  {
   "cell_type": "code",
   "execution_count": 5,
   "metadata": {},
   "outputs": [
    {
     "data": {
      "text/plain": [
       "Segment                  object\n",
       "Country                  object\n",
       " Product                 object\n",
       " Discount Band           object\n",
       " Units Sold              object\n",
       " Manufacturing Price     object\n",
       " Sale Price              object\n",
       " Gross Sales             object\n",
       " Discounts               object\n",
       "  Sales                  object\n",
       " COGS                    object\n",
       " Profit                  object\n",
       "Date                     object\n",
       "Month Number              int64\n",
       " Month Name              object\n",
       "Year                      int64\n",
       "dtype: object"
      ]
     },
     "execution_count": 5,
     "metadata": {},
     "output_type": "execute_result"
    }
   ],
   "source": [
    "#Column type\n",
    "datos_df.dtypes"
   ]
  },
  {
   "cell_type": "code",
   "execution_count": 6,
   "metadata": {},
   "outputs": [
    {
     "name": "stdout",
     "output_type": "stream",
     "text": [
      "<class 'pandas.core.frame.DataFrame'>\n",
      "RangeIndex: 700 entries, 0 to 699\n",
      "Data columns (total 16 columns):\n",
      " #   Column                 Non-Null Count  Dtype \n",
      "---  ------                 --------------  ----- \n",
      " 0   Segment                700 non-null    object\n",
      " 1   Country                700 non-null    object\n",
      " 2    Product               700 non-null    object\n",
      " 3    Discount Band         700 non-null    object\n",
      " 4    Units Sold            700 non-null    object\n",
      " 5    Manufacturing Price   700 non-null    object\n",
      " 6    Sale Price            700 non-null    object\n",
      " 7    Gross Sales           700 non-null    object\n",
      " 8    Discounts             700 non-null    object\n",
      " 9     Sales                700 non-null    object\n",
      " 10   COGS                  700 non-null    object\n",
      " 11   Profit                700 non-null    object\n",
      " 12  Date                   700 non-null    object\n",
      " 13  Month Number           700 non-null    int64 \n",
      " 14   Month Name            700 non-null    object\n",
      " 15  Year                   700 non-null    int64 \n",
      "dtypes: int64(2), object(14)\n",
      "memory usage: 87.6+ KB\n",
      "None\n"
     ]
    }
   ],
   "source": [
    "print(datos_df.info())\n"
   ]
  },
  {
   "cell_type": "code",
   "execution_count": 7,
   "metadata": {},
   "outputs": [
    {
     "data": {
      "text/html": [
       "<div>\n",
       "<style scoped>\n",
       "    .dataframe tbody tr th:only-of-type {\n",
       "        vertical-align: middle;\n",
       "    }\n",
       "\n",
       "    .dataframe tbody tr th {\n",
       "        vertical-align: top;\n",
       "    }\n",
       "\n",
       "    .dataframe thead th {\n",
       "        text-align: right;\n",
       "    }\n",
       "</style>\n",
       "<table border=\"1\" class=\"dataframe\">\n",
       "  <thead>\n",
       "    <tr style=\"text-align: right;\">\n",
       "      <th></th>\n",
       "      <th>Month Number</th>\n",
       "      <th>Year</th>\n",
       "    </tr>\n",
       "  </thead>\n",
       "  <tbody>\n",
       "    <tr>\n",
       "      <th>count</th>\n",
       "      <td>700.000000</td>\n",
       "      <td>700.000000</td>\n",
       "    </tr>\n",
       "    <tr>\n",
       "      <th>mean</th>\n",
       "      <td>7.900000</td>\n",
       "      <td>2013.750000</td>\n",
       "    </tr>\n",
       "    <tr>\n",
       "      <th>std</th>\n",
       "      <td>3.377321</td>\n",
       "      <td>0.433322</td>\n",
       "    </tr>\n",
       "    <tr>\n",
       "      <th>min</th>\n",
       "      <td>1.000000</td>\n",
       "      <td>2013.000000</td>\n",
       "    </tr>\n",
       "    <tr>\n",
       "      <th>25%</th>\n",
       "      <td>5.750000</td>\n",
       "      <td>2013.750000</td>\n",
       "    </tr>\n",
       "    <tr>\n",
       "      <th>50%</th>\n",
       "      <td>9.000000</td>\n",
       "      <td>2014.000000</td>\n",
       "    </tr>\n",
       "    <tr>\n",
       "      <th>75%</th>\n",
       "      <td>10.250000</td>\n",
       "      <td>2014.000000</td>\n",
       "    </tr>\n",
       "    <tr>\n",
       "      <th>max</th>\n",
       "      <td>12.000000</td>\n",
       "      <td>2014.000000</td>\n",
       "    </tr>\n",
       "  </tbody>\n",
       "</table>\n",
       "</div>"
      ],
      "text/plain": [
       "       Month Number         Year\n",
       "count    700.000000   700.000000\n",
       "mean       7.900000  2013.750000\n",
       "std        3.377321     0.433322\n",
       "min        1.000000  2013.000000\n",
       "25%        5.750000  2013.750000\n",
       "50%        9.000000  2014.000000\n",
       "75%       10.250000  2014.000000\n",
       "max       12.000000  2014.000000"
      ]
     },
     "execution_count": 7,
     "metadata": {},
     "output_type": "execute_result"
    }
   ],
   "source": [
    "datos_df.describe()"
   ]
  },
  {
   "cell_type": "markdown",
   "metadata": {},
   "source": [
    "## Preprocesamiento"
   ]
  },
  {
   "cell_type": "markdown",
   "metadata": {},
   "source": [
    "### Limpieza de Datos"
   ]
  },
  {
   "cell_type": "markdown",
   "metadata": {},
   "source": [
    "Se comenzará el preprocesamiento de los datos con una limpieza básica de ellos. El primer paso será modificar el nombre de las columnas para después detectar la existencia de valores nulos en el conjunto de datos:"
   ]
  },
  {
   "cell_type": "code",
   "execution_count": 8,
   "metadata": {},
   "outputs": [],
   "source": [
    "datos_df = datos_df.rename(columns = {\n",
    "    'Segment': 'segment',\n",
    "    'Country': 'country',\n",
    "    ' Product ': 'product',\n",
    "    ' Discount Band ': 'discount_band',\n",
    "    ' Units Sold ': 'units_sold',\n",
    "    ' Manufacturing Price ': 'manufacturing_price',\n",
    "    ' Sale Price ': 'sale_price',\n",
    "    ' Gross Sales ': 'gross_sales',\n",
    "    ' Discounts ': 'discounts',\n",
    "    '  Sales ': 'sales',\n",
    "    ' COGS ': 'cogs',\n",
    "    ' Profit ': 'profit',\n",
    "    'Date': 'date',\n",
    "    'Month Number': 'month_number',\n",
    "    ' Month Name ': 'month_name',\n",
    "    'Year': 'year'\n",
    "})"
   ]
  },
  {
   "cell_type": "code",
   "execution_count": 9,
   "metadata": {},
   "outputs": [
    {
     "data": {
      "text/plain": [
       "segment                0\n",
       "country                0\n",
       "product                0\n",
       "discount_band          0\n",
       "units_sold             0\n",
       "manufacturing_price    0\n",
       "sale_price             0\n",
       "gross_sales            0\n",
       "discounts              0\n",
       "sales                  0\n",
       "cogs                   0\n",
       "profit                 0\n",
       "date                   0\n",
       "month_number           0\n",
       "month_name             0\n",
       "year                   0\n",
       "dtype: int64"
      ]
     },
     "execution_count": 9,
     "metadata": {},
     "output_type": "execute_result"
    }
   ],
   "source": [
    "\n",
    "datos_df.isnull().sum()"
   ]
  },
  {
   "cell_type": "markdown",
   "metadata": {},
   "source": [
    "No existe ningún valor nulo o faltante en nuestro CSV. \n",
    "\n",
    "\n",
    "A continuación se muestra una fila completa del conjutno de datos:\n",
    "\n",
    "Midmarket,France, Paseo , None , $549.00 , $10.00 , $15.00 ,\" $8,235.00 \", $-   ,\" $8,235.00 \",\" $5,490.00 \",\" $2,745.00 \",01/09/2013,9, September ,2013\n",
    "\n",
    "Como puede observarse, existen carácteres especiales que han de ser eliminados del dataset para poder trabajar de forma correcta con los datos, además, el valor de la cuarta columna, en muchos ejemplos toma valor \"none\".\n",
    "\n",
    "Se muestra entonces, punto por punto, los pasos a seguir hasta dar con un dataset completamente funcional:\n",
    "\n"
   ]
  },
  {
   "cell_type": "markdown",
   "metadata": {},
   "source": [
    "#### Eliminar espacios en blanco de las columnas."
   ]
  },
  {
   "cell_type": "code",
   "execution_count": 10,
   "metadata": {},
   "outputs": [
    {
     "data": {
      "text/plain": [
       "Index(['segment', 'country', 'product', 'discount_band', 'units_sold',\n",
       "       'manufacturing_price', 'sale_price', 'gross_sales', 'discounts',\n",
       "       'sales', 'cogs', 'profit', 'date', 'month_number', 'month_name',\n",
       "       'year'],\n",
       "      dtype='object')"
      ]
     },
     "execution_count": 10,
     "metadata": {},
     "output_type": "execute_result"
    }
   ],
   "source": [
    "datos_df.columns = datos_df.columns.str.strip()\n",
    "datos_df.columns"
   ]
  },
  {
   "cell_type": "markdown",
   "metadata": {},
   "source": [
    "#### Identificar y limpiar columnas numéricas"
   ]
  },
  {
   "cell_type": "code",
   "execution_count": 11,
   "metadata": {},
   "outputs": [],
   "source": [
    "numeric_columns = [\n",
    "    'units_sold', 'manufacturing_price', 'sale_price',\n",
    "    'gross_sales', 'discounts', 'sales', 'cogs', 'profit'\n",
    "]"
   ]
  },
  {
   "cell_type": "markdown",
   "metadata": {},
   "source": [
    "Recordemos los valores que toman dichas columnas numéricas:\n"
   ]
  },
  {
   "cell_type": "code",
   "execution_count": 12,
   "metadata": {},
   "outputs": [
    {
     "name": "stdout",
     "output_type": "stream",
     "text": [
      "      units_sold manufacturing_price sale_price     gross_sales  \\\n",
      "0     $1,618.50               $3.00     $20.00      $32,370.00    \n",
      "1     $1,321.00               $3.00     $20.00      $26,420.00    \n",
      "2     $2,178.00               $3.00     $15.00      $32,670.00    \n",
      "3       $888.00               $3.00     $15.00      $13,320.00    \n",
      "4     $2,470.00               $3.00     $15.00      $37,050.00    \n",
      "..           ...                 ...        ...             ...   \n",
      "695   $2,475.00             $260.00    $300.00    $7,42,500.00    \n",
      "696     $546.00             $260.00    $300.00    $1,63,800.00    \n",
      "697   $1,368.00               $5.00      $7.00       $9,576.00    \n",
      "698     $723.00              $10.00      $7.00       $5,061.00    \n",
      "699   $1,806.00             $250.00     $12.00      $21,672.00    \n",
      "\n",
      "          discounts           sales            cogs        profit  \n",
      "0             $-        $32,370.00      $16,185.00    $16,185.00   \n",
      "1             $-        $26,420.00      $13,210.00    $13,210.00   \n",
      "2             $-        $32,670.00      $21,780.00    $10,890.00   \n",
      "3             $-        $13,320.00       $8,880.00     $4,440.00   \n",
      "4             $-        $37,050.00      $24,700.00    $12,350.00   \n",
      "..              ...             ...             ...           ...  \n",
      "695   $1,11,375.00    $6,31,125.00    $6,18,750.00    $12,375.00   \n",
      "696     $24,570.00    $1,39,230.00    $1,36,500.00     $2,730.00   \n",
      "697      $1,436.40       $8,139.60       $6,840.00     $1,299.60   \n",
      "698        $759.15       $4,301.85       $3,615.00       $686.85   \n",
      "699      $3,250.80      $18,421.20       $5,418.00    $13,003.20   \n",
      "\n",
      "[700 rows x 8 columns]\n"
     ]
    }
   ],
   "source": [
    "print(datos_df[numeric_columns])"
   ]
  },
  {
   "cell_type": "markdown",
   "metadata": {},
   "source": [
    "A simple vista puede observarse que existen carácteres como \"$\", \",\", \"/\" o espacios que serán eliminados a continuación:\n"
   ]
  },
  {
   "cell_type": "code",
   "execution_count": 13,
   "metadata": {},
   "outputs": [],
   "source": [
    "for col in numeric_columns:\n",
    "    datos_df[col] = (\n",
    "        datos_df[col]\n",
    "        .astype(str)\n",
    "        .str.replace(',', '', regex=False)       # Eliminar comas\n",
    "        .str.replace(r'\\(|\\)', '', regex=True)  # Eliminar paréntesis\n",
    "        .str.replace(r'\\$', '', regex=True)     # Eliminar signos de dólar\n",
    "        .str.replace('-', '0', regex=False)     # Reemplazar guiones con ceros\n",
    "        .str.strip()                            # Eliminar espacios\n",
    "        .astype(float)                          # Convertir a flotante\n",
    "    )"
   ]
  },
  {
   "cell_type": "code",
   "execution_count": 14,
   "metadata": {},
   "outputs": [
    {
     "name": "stdout",
     "output_type": "stream",
     "text": [
      "              segment                   country      product discount_band  \\\n",
      "0          Government                    Canada   Carretera          None    \n",
      "1          Government                   Germany   Carretera          None    \n",
      "2           Midmarket                    France   Carretera          None    \n",
      "3           Midmarket                   Germany   Carretera          None    \n",
      "4           Midmarket                    Mexico   Carretera          None    \n",
      "..                ...                       ...          ...           ...   \n",
      "695    Small Business                    France    Amarilla          High    \n",
      "696    Small Business                    Mexico    Amarilla          High    \n",
      "697        Government                    Mexico     Montana          High    \n",
      "698        Government                    Canada       Paseo          High    \n",
      "699  Channel Partners  United States of America         VTT          High    \n",
      "\n",
      "     units_sold  manufacturing_price  sale_price  gross_sales  discounts  \\\n",
      "0        1618.5                  3.0        20.0      32370.0       0.00   \n",
      "1        1321.0                  3.0        20.0      26420.0       0.00   \n",
      "2        2178.0                  3.0        15.0      32670.0       0.00   \n",
      "3         888.0                  3.0        15.0      13320.0       0.00   \n",
      "4        2470.0                  3.0        15.0      37050.0       0.00   \n",
      "..          ...                  ...         ...          ...        ...   \n",
      "695      2475.0                260.0       300.0     742500.0  111375.00   \n",
      "696       546.0                260.0       300.0     163800.0   24570.00   \n",
      "697      1368.0                  5.0         7.0       9576.0    1436.40   \n",
      "698       723.0                 10.0         7.0       5061.0     759.15   \n",
      "699      1806.0                250.0        12.0      21672.0    3250.80   \n",
      "\n",
      "         sales      cogs    profit        date  month_number  month_name  year  \n",
      "0     32370.00   16185.0  16185.00  01/01/2014             1    January   2014  \n",
      "1     26420.00   13210.0  13210.00  01/01/2014             1    January   2014  \n",
      "2     32670.00   21780.0  10890.00  01/06/2014             6       June   2014  \n",
      "3     13320.00    8880.0   4440.00  01/06/2014             6       June   2014  \n",
      "4     37050.00   24700.0  12350.00  01/06/2014             6       June   2014  \n",
      "..         ...       ...       ...         ...           ...         ...   ...  \n",
      "695  631125.00  618750.0  12375.00  01/03/2014             3      March   2014  \n",
      "696  139230.00  136500.0   2730.00  01/10/2014            10    October   2014  \n",
      "697    8139.60    6840.0   1299.60  01/02/2014             2   February   2014  \n",
      "698    4301.85    3615.0    686.85  01/04/2014             4      April   2014  \n",
      "699   18421.20    5418.0  13003.20  01/05/2014             5        May   2014  \n",
      "\n",
      "[700 rows x 16 columns]\n"
     ]
    }
   ],
   "source": [
    "print(datos_df)"
   ]
  },
  {
   "cell_type": "markdown",
   "metadata": {},
   "source": [
    "El segundo paso entonces será asegurarnos de que la fecha está en un formato correcto:"
   ]
  },
  {
   "cell_type": "code",
   "execution_count": 15,
   "metadata": {},
   "outputs": [],
   "source": [
    "datos_df['date'] = pd.to_datetime(datos_df['date'], format='%d/%m/%Y')"
   ]
  },
  {
   "cell_type": "code",
   "execution_count": 16,
   "metadata": {},
   "outputs": [
    {
     "name": "stdout",
     "output_type": "stream",
     "text": [
      "<class 'pandas.core.frame.DataFrame'>\n",
      "RangeIndex: 700 entries, 0 to 699\n",
      "Data columns (total 16 columns):\n",
      " #   Column               Non-Null Count  Dtype         \n",
      "---  ------               --------------  -----         \n",
      " 0   segment              700 non-null    object        \n",
      " 1   country              700 non-null    object        \n",
      " 2   product              700 non-null    object        \n",
      " 3   discount_band        700 non-null    object        \n",
      " 4   units_sold           700 non-null    float64       \n",
      " 5   manufacturing_price  700 non-null    float64       \n",
      " 6   sale_price           700 non-null    float64       \n",
      " 7   gross_sales          700 non-null    float64       \n",
      " 8   discounts            700 non-null    float64       \n",
      " 9   sales                700 non-null    float64       \n",
      " 10  cogs                 700 non-null    float64       \n",
      " 11  profit               700 non-null    float64       \n",
      " 12  date                 700 non-null    datetime64[ns]\n",
      " 13  month_number         700 non-null    int64         \n",
      " 14  month_name           700 non-null    object        \n",
      " 15  year                 700 non-null    int64         \n",
      "dtypes: datetime64[ns](1), float64(8), int64(2), object(5)\n",
      "memory usage: 87.6+ KB\n",
      "None\n"
     ]
    }
   ],
   "source": [
    "print(datos_df.info())"
   ]
  },
  {
   "cell_type": "markdown",
   "metadata": {},
   "source": [
    "#### Reemplazo de valores en 'product' para mejorar el análisis y entendimiento del proyecto"
   ]
  },
  {
   "cell_type": "markdown",
   "metadata": {},
   "source": [
    "Debido a que los productos de la columna 'product' resultan complicados de interpretar, se ha optado por hacer una permuta de ellos. Teniendo en cuenta el precio de producción y el precio de venta de cada uno de ellos, se ha llegado al siguiente acuerdo: "
   ]
  },
  {
   "cell_type": "markdown",
   "metadata": {},
   "source": [
    "1. **Amarilla** pasará a ser un **Teclado inalámbrico compacto**\n",
    "Manufacturing Price: 260 USD\n",
    "Descripción: Amarilla es un teclado inalámbrico compacto y ergonómico, diseñado para usuarios que buscan una experiencia de escritura fluida y cómoda. Con un diseño minimalista y teclas silenciosas, este teclado es perfecto para profesionales que necesitan un dispositivo confiable tanto en la oficina como en casa. La conectividad Bluetooth permite usarlo con una amplia variedad de dispositivos, incluyendo laptops, tablets y teléfonos móviles.\n",
    "\n",
    "Razonamiento: Con un precio de fabricación elevado, este teclado combina características premium como la retroiluminación ajustable y la ergonomía avanzada, lo que lo convierte en la opción ideal para usuarios exigentes que valoran la comodidad y la funcionalidad en su equipo de trabajo.\n",
    "\n",
    "2. **Carretera** pasará a ser un **Altavoz Bluetooth portátil básico**\n",
    "Manufacturing Price: 3 USD\n",
    "Descripción: Carretera es un altavoz Bluetooth compacto y económico perfecto para reproducir música o realizar llamadas mientras viajas. Ideal para escuchar en el auto, en el parque o en cualquier espacio al aire libre.\n",
    "\n",
    "Razonamiento: Un producto sencillo, económico y funcional, diseñado para usuarios que buscan un altavoz básico sin muchas complicaciones.\n",
    "\n",
    "3. **Montana** pasará a ser un **Termómetro de cocina digital**\n",
    "Manufacturing Price: 5 USD\n",
    "Descripción: Montana es un termómetro de cocina digital diseñado para medir la temperatura de alimentos con rapidez y precisión. Es ideal para quienes buscan mantener una alimentación saludable y cocinar con exactitud.\n",
    "\n",
    "Razonamiento: Dispositivo básico y de bajo costo, pero muy útil para aficionados de la cocina y la comida saludable.\n",
    "\n",
    "4. **Paseo** pasará a ser una **Pulsera de actividad fitness básica**\n",
    "Manufacturing Price: 10 USD\n",
    "Descripción: Paseo es una pulsera de actividad básica que rastrea pasos, distancia recorrida y calidad de sueño. Ideal para quienes buscan monitorear su actividad diaria sin complicaciones.\n",
    "\n",
    "Razonamiento: Este producto ofrece funcionalidad básica con un precio asequible, adecuado para usuarios principiantes en la tecnología de salud.\n",
    "\n",
    "5. **VTT** pasará a ser una **Cámara de seguridad IP básica**\n",
    "Manufacturing Price: 250 USD\n",
    "Descripción: VTT es una cámara de seguridad IP con visión nocturna y grabación en alta definición. Perfecta para proteger el hogar, oficina o negocio, fácil de instalar y controlar a través de una aplicación.\n",
    "\n",
    "Razonamiento: Cámara de seguridad con buen precio y prestaciones básicas, adecuada para uso doméstico.\n",
    "\n",
    "6. **Velo** pasará a ser un **Smartwatch económico**\n",
    "Manufacturing Price: 120 USD\n",
    "Descripción: Velo es un smartwatch básico que ofrece seguimiento de actividad física, notificaciones de mensajes y llamadas, y funciones de monitoreo de salud como frecuencia cardíaca y calidad del sueño.\n",
    "\n",
    "Razonamiento: Un reloj inteligente accesible y funcional, ideal para aquellos que buscan lo esencial sin pagar por funciones avanzadas.\n",
    "\n"
   ]
  },
  {
   "cell_type": "code",
   "execution_count": 20,
   "metadata": {},
   "outputs": [
    {
     "name": "stdout",
     "output_type": "stream",
     "text": [
      "Valores únicos actualizados en 'product':\n",
      "['altavoz' 'termometro' 'pulsera' 'smartwatch' 'camara' 'teclado']\n",
      "\n",
      "DataFrame actualizado:\n",
      "      segment  country  product discount_band  units_sold  \\\n",
      "0  Government   Canada  altavoz         None       1618.5   \n",
      "1  Government  Germany  altavoz         None       1321.0   \n",
      "2   Midmarket   France  altavoz         None       2178.0   \n",
      "3   Midmarket  Germany  altavoz         None        888.0   \n",
      "4   Midmarket   Mexico  altavoz         None       2470.0   \n",
      "\n",
      "   manufacturing_price  sale_price  gross_sales  discounts    sales     cogs  \\\n",
      "0                  3.0        20.0      32370.0        0.0  32370.0  16185.0   \n",
      "1                  3.0        20.0      26420.0        0.0  26420.0  13210.0   \n",
      "2                  3.0        15.0      32670.0        0.0  32670.0  21780.0   \n",
      "3                  3.0        15.0      13320.0        0.0  13320.0   8880.0   \n",
      "4                  3.0        15.0      37050.0        0.0  37050.0  24700.0   \n",
      "\n",
      "    profit       date  month_number month_name  year  \n",
      "0  16185.0 2014-01-01             1   January   2014  \n",
      "1  13210.0 2014-01-01             1   January   2014  \n",
      "2  10890.0 2014-06-01             6      June   2014  \n",
      "3   4440.0 2014-06-01             6      June   2014  \n",
      "4  12350.0 2014-06-01             6      June   2014  \n"
     ]
    }
   ],
   "source": [
    "# Limpiar espacios en blanco antes y después de los valores en la columna 'product'\n",
    "datos_df['product'] = datos_df['product'].str.strip()\n",
    "\n",
    "# Crear el diccionario de reemplazo\n",
    "reemplazos = {\n",
    "    \"Amarilla\": \"teclado\",\n",
    "    \"Carretera\": \"altavoz\",\n",
    "    \"Montana\": \"termometro\",\n",
    "    \"Paseo\": \"pulsera\",\n",
    "    \"VTT\": \"camara\",\n",
    "    \"Velo\": \"smartwatch\"\n",
    "}\n",
    "\n",
    "# Aplicar los reemplazos en la columna 'product'\n",
    "datos_df['product'] = datos_df['product'].replace(reemplazos)\n",
    "\n",
    "# Verificar los cambios únicos en la columna 'product'\n",
    "print(\"Valores únicos actualizados en 'product':\")\n",
    "print(datos_df['product'].unique())\n",
    "\n",
    "# Mostrar las primeras filas del DataFrame actualizado\n",
    "print(\"\\nDataFrame actualizado:\")\n",
    "print(datos_df.head())\n",
    "\n",
    "\n"
   ]
  },
  {
   "cell_type": "markdown",
   "metadata": {},
   "source": [
    "A continuación se muestra una tabla resumen de los cambios realizados:\n",
    "\"Amarilla\": \"teclado\",\n",
    "    \"Carretera\": \"altavoz\",\n",
    "    \"Montana\": \"termometro\",\n",
    "    \"Paseo\": \"pulsera\",\n",
    "    \"VTT\": \"camara\",\n",
    "    \"Velo\": \"smartwatch\"\n",
    "\n",
    "| Producto Inicial | Producto definitivo\n",
    "|----------|----------\n",
    "|Amarilla    | teclado   \n",
    "| Carretera    | altavoz   \n",
    "| Montana    | termometro\n",
    "| Paseo    | pulsera\n",
    "| VTT    | camara\n",
    "| Velo    | smartwatch   "
   ]
  },
  {
   "cell_type": "markdown",
   "metadata": {},
   "source": [
    "### Análisis Exploratorio y Visualizaciones"
   ]
  },
  {
   "cell_type": "markdown",
   "metadata": {},
   "source": [
    "Para aumentar el conocimiento sobre los datos, se realizará un análisis exploratorio de los datos basados en los requerimientos del negocio:\n"
   ]
  },
  {
   "cell_type": "markdown",
   "metadata": {},
   "source": [
    "#### Análisis comparativo por país\n",
    "\n",
    "Se identificará el desempeño en términos de ventas, beneficios y márgenes en cada país."
   ]
  },
  {
   "cell_type": "code",
   "execution_count": 35,
   "metadata": {
    "vscode": {
     "languageId": "javascript"
    }
   },
   "outputs": [],
   "source": [
    "grouped_data = datos_df.groupby(['country', 'product']).agg({\n",
    "    'manufacturing_price': 'mean',              \n",
    "    'sale_price': 'mean',           \n",
    "    'units_sold': 'sum'        \n",
    "}).reset_index()\n",
    "\n",
    "grouped_data.rename(columns={\n",
    "    'manufacturing': 'Average Manufacturing Price',\n",
    "    'sales': 'Average Sale Price',\n",
    "    'units_sold': 'Units Sold'\n",
    "}, inplace=True)\n",
    "\n",
    "grouped_data"
   ]
  },
  {
   "cell_type": "markdown",
   "metadata": {},
   "source": [
    "Visualización del análisis comparativo:\n"
   ]
  },
  {
   "cell_type": "code",
   "execution_count": 36,
   "metadata": {},
   "outputs": [],
   "source": [
    "# Asegurándonos de que 'Profit' esté en grouped_data\n",
    "grouped_data['Profit'] = grouped_data['sale_price'] - grouped_data['manufacturing_price']\n",
    "\n",
    "# Asegurarnos de que 'Net Profit Margin (%)' esté en grouped_data\n",
    "grouped_data['Net Profit Margin (%)'] = (grouped_data['Profit'] / grouped_data['sale_price']) * 100\n",
    "\n",
    "# Crear el gráfico de barras con dos ejes Y\n",
    "fig, ax1 = plt.subplots(figsize=(12, 6))\n",
    "\n",
    "# Graficar 'Sale Price' y 'Profit' en el primer eje Y\n",
    "grouped_data[['sale_price', 'Profit']].plot(\n",
    "    kind='bar', \n",
    "    stacked=True, \n",
    "    ax=ax1, \n",
    "    color=['skyblue', 'lightgreen'],\n",
    "    alpha=0.8\n",
    ")\n",
    "ax1.set_xlabel('País y Producto')\n",
    "ax1.set_ylabel('Sale Price y Profit', color='black')\n",
    "ax1.tick_params(axis='y', labelcolor='black')\n",
    "\n",
    "# Crear el segundo eje Y para el Net Profit Margin (%) y graficarlo\n",
    "ax2 = ax1.twinx()\n",
    "grouped_data['Net Profit Margin (%)'].plot(\n",
    "    kind='line', \n",
    "    ax=ax2, \n",
    "    color='red', \n",
    "    marker='o', \n",
    "    linewidth=2, \n",
    "    label='Net Profit Margin'\n",
    ")\n",
    "ax2.set_ylabel('Net Profit Margin (%)', color='red')\n",
    "ax2.tick_params(axis='y', labelcolor='red')\n",
    "\n",
    "# Agregar título y ajustar etiquetas del eje X\n",
    "plt.title('Desempeño por País y Producto')\n",
    "ax1.set_xticklabels(grouped_data['country'] + ' - ' + grouped_data['product'], rotation=45, ha='right')\n",
    "\n",
    "# Ajustar diseño\n",
    "fig.tight_layout()\n",
    "\n",
    "# Mostrar el gráfico\n",
    "plt.show()\n"
   ]
  },
  {
   "cell_type": "markdown",
   "metadata": {},
   "source": [
    "#### Análisis comparativo por país\n",
    "\n",
    "Se identificará el desempeño en términos de ventas, beneficios y márgenes en cada país."
   ]
  },
  {
   "cell_type": "code",
   "execution_count": 38,
   "metadata": {},
   "outputs": [],
   "source": [
    "comparacion_df = datos_df.groupby('country').agg({\n",
    "    'sales': 'sum',\n",
    "    'profit': 'sum',\n",
    "    'cogs': 'sum',\n",
    "    'sale_price': 'mean',\n",
    "    'manufacturing_price': 'mean',\n",
    "    'discounts': 'sum'   \n",
    "}).rename(columns = {\n",
    "    'sales': 'Total Sales',\n",
    "    'profit': 'Total Profit',   \n",
    "    'cogs': 'Total COGS',   \n",
    "    'sale_price': 'Average Sale Price',\n",
    "    'manufacturing_price': 'Average Manufacturing Price',\n",
    "    'discounts': 'Total Discounts'\n",
    "})"
   ]
  },
  {
   "cell_type": "markdown",
   "metadata": {},
   "source": [
    "El beneficio neto se refiere a las ganancias después de restar los costos de producción, entre otros. Con ello se podrá obtener una visión clara de qué tan rentable es una empresa en relación con sus ingresos:\n",
    "\n",
    "        Margen de Beneficio Neto = ((Beneficio Total)/(Ventas Totales)) x 100"
   ]
  },
  {
   "cell_type": "code",
   "execution_count": 39,
   "metadata": {},
   "outputs": [],
   "source": [
    "comparacion_df['Net Profit Margin (%)'] = ((comparacion_df['Total Profit'] / comparacion_df['Total Sales']) * 100).round(2) \n",
    "comparacion_df['Net Profit Margin (%)'] = comparacion_df['Net Profit Margin (%)'] / 100\n",
    "\n",
    "print(comparacion_df)"
   ]
  },
  {
   "cell_type": "markdown",
   "metadata": {},
   "source": [
    "Visualización del análisis comparativo"
   ]
  },
  {
   "cell_type": "code",
   "execution_count": 41,
   "metadata": {},
   "outputs": [],
   "source": [
    "# Crear el gráfico de barras con dos ejes Y\n",
    "fig, ax1 = plt.subplots(figsize=(12, 6))\n",
    "\n",
    "# Graficar Total Sales y Total Profit en el primer eje Y\n",
    "comparacion_df[['Total Sales', 'Total Profit']].plot(kind='bar', stacked=True, ax=ax1, color=['skyblue', 'lightgreen'])\n",
    "ax1.set_xlabel('País')\n",
    "ax1.set_ylabel('Total Sales y Total Profit', color='black')\n",
    "ax1.tick_params(axis='y', labelcolor='black')\n",
    "\n",
    "# Crear el segundo eje Y para el Net Profit Margin (%) y graficarlo\n",
    "ax2 = ax1.twinx()\n",
    "comparacion_df['Net Profit Margin (%)'].plot(kind='line', ax=ax2, color='red', marker='o', linewidth=2, label='Net Profit Margin')\n",
    "ax2.set_ylabel('Net Profit Margin (%)', color='red')\n",
    "ax2.tick_params(axis='y', labelcolor='red')\n",
    "\n",
    "# Agregar título y leyenda\n",
    "plt.title('Desempeño por País')\n",
    "ax1.set_xticklabels(comparacion_df.index, rotation=45)\n",
    "fig.tight_layout()\n",
    "\n",
    "# Mostrar el gráfico\n",
    "plt.show()"
   ]
  },
  {
   "cell_type": "markdown",
   "metadata": {},
   "source": [
    "Puede observar que EEUU tiene las ventas totales más altas con un valor de 25,029,830.18$ mientras que méxico tiene las más bajas.\n",
    "\n",
    "Respecto al beneficio total, es decir, las ganancias después de descontar los costos de producción (COGS) de las ventas, Francia y Alemania tienen el mayor beneficio total con 4,032,488.29 y 3,961,381.32 respectivamente. A destacar, que EEUU tiene un beneficio sorprendentemente bajo, con 3397345.68$, junto con México. Esto podría indicar que la eficiencia en mucho menor.\n",
    "\n",
    "El COGS, costo asociado con la producción de los productos vendidos, alcanza un valor de 22,034,289.5 en EEUU, costo bastante elevado. Alemania y Francia presentan los COGS más bajos, que podría indicar un controlmás eficiente de los costos de producción. \n",
    "\n",
    "Respecto al Average Manufacturing Price (Precio Promedio de Fabricación), EEUU tiene el promedio más alto seguido por Canada.\n",
    "\n",
    "EEUU tiene además, los descuentos totales más altos, es decir, todo indica que utiliza una estrategia de descuentos mucho más agresiva para estimular las ventas."
   ]
  },
  {
   "cell_type": "markdown",
   "metadata": {},
   "source": [
    "#### Análisis de márgenes de beneficio por producto\n",
    "\n",
    "\n",
    "El objetivo será destacar oportunidades"
   ]
  },
  {
   "cell_type": "code",
   "execution_count": 22,
   "metadata": {},
   "outputs": [],
   "source": [
    "import pandas as pd\n",
    "import matplotlib.pyplot as plt\n",
    "\n",
    "# Supongamos que `datos_df` ya está definido con las columnas necesarias: 'country', 'product', 'profit', 'sales'\n",
    "\n",
    "# Cálculo de margen de beneficio\n",
    "datos_df['Profit Margin (%)'] = ((datos_df['profit'] / datos_df['sales']) * 100).round(2)\n",
    "\n",
    "# Promedio de margen de beneficio por producto y país\n",
    "avg_profit_margin = datos_df.groupby(['country', 'product'])['Profit Margin (%)'].mean().reset_index()\n",
    "\n",
    "# Visualización\n",
    "plt.figure(figsize=(12, 8))\n",
    "\n",
    "for country in avg_profit_margin['country'].unique():\n",
    "    country_data = avg_profit_margin[avg_profit_margin['country'] == country]\n",
    "    plt.barh(country_data['product'], country_data['Profit Margin (%)'], label=country)\n",
    "\n",
    "plt.title('Márgenes de Beneficio Promedio por Producto y País')\n",
    "plt.xlabel('Margen de Beneficio (%)')\n",
    "plt.ylabel('Producto')\n",
    "plt.legend(title=\"País\", bbox_to_anchor=(1.05, 1), loc='upper left')\n",
    "plt.tight_layout()\n",
    "plt.show()\n"
   ]
  },
  {
   "cell_type": "markdown",
   "metadata": {},
   "source": [
    "Investigar que coño son esos productos \n",
    "idea: buscar si los un producto es solo de un pais o de varios"
   ]
  },
  {
   "cell_type": "markdown",
   "metadata": {},
   "source": [
    "#### Análisis de descuentos\n",
    "\n",
    "Analizar los niveles promedio de descuento por producto y evaluar su impacto en las ventas.\n"
   ]
  },
  {
   "cell_type": "code",
   "execution_count": 69,
   "metadata": {},
   "outputs": [],
   "source": [
    "\n",
    "avg_discounts = datos_df.groupby('product')['discounts'].mean()\n",
    "\n",
    "# Visualización\n",
    "plt.figure(figsize=(10, 6))\n",
    "avg_discounts.sort_values().plot(kind='barh', color='purple')\n",
    "plt.title('Promedio de Descuentos por Producto')\n",
    "plt.xlabel('Descuentos')\n",
    "plt.ylabel('Producto')\n",
    "plt.tight_layout()\n",
    "plt.show()\n",
    "\n"
   ]
  },
  {
   "cell_type": "markdown",
   "metadata": {},
   "source": [
    "#### Análisis temporal de ventas\n",
    "\n",
    "A continuación se examinarán tendencias estacionales o anuales en las ventas"
   ]
  },
  {
   "cell_type": "code",
   "execution_count": 70,
   "metadata": {},
   "outputs": [],
   "source": [
    "monthy_sales = datos_df.groupby(['year', 'month_name'])['sales'].sum().unstack()\n",
    "\n",
    "#visualización\n",
    "monthy_sales.T.plot(kind = 'line', figsize=(14, 8), marker='o')\n",
    "plt.title('Tendencias de Ventas Mensuales por Años')\n",
    "plt.xlabel('Mes')\n",
    "plt.ylabel('Ventas Totales')\n",
    "plt.legend(title='Año', loc='upper right')\n",
    "plt.tight_layout()\n",
    "plt.show()\n"
   ]
  },
  {
   "cell_type": "markdown",
   "metadata": {},
   "source": [
    "Una vez realizada la limpieza de datos y el análisis exploratorio inicial, se ha decidido enfocar este proyecto en predecir y mejorar el Net Profit Margin (%) por país. Identificaremos qué factores, como descuentos o costos de producción, afectan más al beneficio neto y se verán posibles ajustes para maximizarlos."
   ]
  },
  {
   "cell_type": "markdown",
   "metadata": {},
   "source": [
    "## Predecir y Mejorar Net Profit Margin (%)"
   ]
  },
  {
   "cell_type": "markdown",
   "metadata": {},
   "source": [
    "Relación entre descuentos, costos y beneficios:"
   ]
  },
  {
   "cell_type": "code",
   "execution_count": 23,
   "metadata": {},
   "outputs": [],
   "source": [
    "# Relación entre descuentos y margen de beneficio\n",
    "plt.figure(figsize=(10, 6))\n",
    "sns.scatterplot(data=datos_df, x='discounts', y='Profit Margin (%)', hue='country')\n",
    "plt.title('Relación entre Descuentos y Margen de Beneficio')\n",
    "plt.xlabel('Descuentos')\n",
    "plt.ylabel('Margen de Beneficio (%)')\n",
    "plt.legend(title='País')\n",
    "plt.tight_layout()\n",
    "plt.show()\n",
    "\n",
    "# Relación entre costos y margen de beneficio\n",
    "plt.figure(figsize=(10, 6))\n",
    "sns.scatterplot(data=datos_df, x='cogs', y='Profit Margin (%)', hue='country')\n",
    "plt.title('Relación entre Costos y Margen de Beneficio')\n",
    "plt.xlabel('Costos de Producción (COGS)')\n",
    "plt.ylabel('Margen de Beneficio (%)')\n",
    "plt.legend(title='País')\n",
    "plt.tight_layout()\n",
    "plt.show()"
   ]
  },
  {
   "cell_type": "markdown",
   "metadata": {},
   "source": [
    "MATRIZ DE CORRELACIÓN"
   ]
  },
  {
   "cell_type": "code",
   "execution_count": 36,
   "metadata": {},
   "outputs": [
    {
     "name": "stdout",
     "output_type": "stream",
     "text": [
      "   units_sold  manufacturing_price  sale_price  gross_sales  discounts  \\\n",
      "0      1618.5                  3.0        20.0      32370.0        0.0   \n",
      "1      1321.0                  3.0        20.0      26420.0        0.0   \n",
      "2      2178.0                  3.0        15.0      32670.0        0.0   \n",
      "3       888.0                  3.0        15.0      13320.0        0.0   \n",
      "4      2470.0                  3.0        15.0      37050.0        0.0   \n",
      "\n",
      "     sales     cogs   profit  month_number  year  ...  month_name_ December   \\\n",
      "0  32370.0  16185.0  16185.0             1  2014  ...                      0   \n",
      "1  26420.0  13210.0  13210.0             1  2014  ...                      0   \n",
      "2  32670.0  21780.0  10890.0             6  2014  ...                      0   \n",
      "3  13320.0   8880.0   4440.0             6  2014  ...                      0   \n",
      "4  37050.0  24700.0  12350.0             6  2014  ...                      0   \n",
      "\n",
      "   month_name_ February   month_name_ January   month_name_ July   \\\n",
      "0                      0                     1                  0   \n",
      "1                      0                     1                  0   \n",
      "2                      0                     0                  0   \n",
      "3                      0                     0                  0   \n",
      "4                      0                     0                  0   \n",
      "\n",
      "   month_name_ June   month_name_ March   month_name_ May   \\\n",
      "0                  0                   0                 0   \n",
      "1                  0                   0                 0   \n",
      "2                  1                   0                 0   \n",
      "3                  1                   0                 0   \n",
      "4                  1                   0                 0   \n",
      "\n",
      "   month_name_ November   month_name_ October   month_name_ September   \n",
      "0                      0                     0                       0  \n",
      "1                      0                     0                       0  \n",
      "2                      0                     0                       0  \n",
      "3                      0                     0                       0  \n",
      "4                      0                     0                       0  \n",
      "\n",
      "[5 rows x 37 columns]\n"
     ]
    }
   ],
   "source": [
    "import pandas as pd\n",
    "import numpy as np\n",
    "\n",
    "# Definir las columnas categóricas\n",
    "categorical_columns = ['segment', 'country', 'product', 'discount_band', 'month_name']\n",
    "\n",
    "# Aplicar One-Hot Encoding\n",
    "correlation_data_encoded = pd.get_dummies(\n",
    "    datos_df[['units_sold', 'manufacturing_price', 'sale_price', 'gross_sales', 'discounts', \n",
    "              'sales', 'cogs', 'profit', 'month_number', 'year'] + categorical_columns],\n",
    "    drop_first=True  # Para evitar la multicolinealidad\n",
    ")\n",
    "\n",
    "# Ver las primeras filas del dataframe con las variables codificadas\n",
    "print(correlation_data_encoded.head())\n"
   ]
  },
  {
   "cell_type": "code",
   "execution_count": null,
   "metadata": {},
   "outputs": [
    {
     "name": "stdout",
     "output_type": "stream",
     "text": [
      "sales                   gross_sales               0.998174\n",
      "gross_sales             sales                     0.998174\n",
      "cogs                    gross_sales               0.994519\n",
      "gross_sales             cogs                      0.994519\n",
      "cogs                    sales                     0.992244\n",
      "sales                   cogs                      0.992244\n",
      "profit                  sales                     0.847699\n",
      "sales                   profit                    0.847699\n",
      "gross_sales             profit                    0.828931\n",
      "profit                  gross_sales               0.828931\n",
      "sale_price              gross_sales               0.808250\n",
      "gross_sales             sale_price                0.808250\n",
      "sales                   sale_price                0.805878\n",
      "sale_price              sales                     0.805878\n",
      "cogs                    sale_price                0.799335\n",
      "sale_price              cogs                      0.799335\n",
      "cogs                    discounts                 0.782930\n",
      "discounts               cogs                      0.782930\n",
      "                        gross_sales               0.782485\n",
      "gross_sales             discounts                 0.782485\n",
      "profit                  cogs                      0.779744\n",
      "cogs                    profit                    0.779744\n",
      "sales                   discounts                 0.743447\n",
      "discounts               sales                     0.743447\n",
      "sale_price              profit                    0.674018\n",
      "profit                  sale_price                0.674018\n",
      "discounts               sale_price                0.641689\n",
      "sale_price              discounts                 0.641689\n",
      "product_ VTT            manufacturing_price       0.607523\n",
      "manufacturing_price     product_ VTT              0.607523\n",
      "segment_Small Business  sale_price                0.542343\n",
      "sale_price              segment_Small Business    0.542343\n",
      "month_number            month_name_ December      0.510338\n",
      "month_name_ December    month_number              0.510338\n",
      "dtype: float64\n"
     ]
    }
   ],
   "source": [
    "# Generar la matriz de correlación\n",
    "correlation_matrix = correlation_data_encoded.corr()\n",
    "\n",
    "# Mostrar la matriz de correlación\n",
    "import pandas as pd\n",
    "import numpy as np\n",
    "\n",
    "# Establecer la diagonal en NaN para excluir las correlaciones de las variables consigo mismas\n",
    "np.fill_diagonal(correlation_matrix.values, np.nan)\n",
    "\n",
    "# Ordenar la matriz de correlación por valores absolutos (para ver las más significativas)\n",
    "correlation_matrix_sorted = correlation_matrix.stack().sort_values(ascending=False)\n",
    "\n",
    "# Filtrar solo las correlaciones mayores a 0.5 (o el umbral que necesites)\n",
    "correlation_matrix_sorted = correlation_matrix_sorted[correlation_matrix_sorted > 0.5]\n",
    "\n",
    "# Filtrar solo las correlaciones menores a 0.5 (o el umbral que necesites)\n",
    "##correlation_matrix_sorted = correlation_matrix_sorted[correlation_matrix_sorted < 0.5]\n",
    "\n",
    "# Mostrar solo las correlaciones que no son 1 (diagonal)\n",
    "correlation_non_1 = correlation_matrix_sorted[correlation_matrix_sorted != 1]\n",
    "\n",
    "# Mostrar las correlaciones no iguales a 1\n",
    "pd.set_option('display.max_rows', 100)  # Establecer un límite para ver todas las filas\n",
    "print(correlation_non_1)\n"
   ]
  },
  {
   "cell_type": "markdown",
   "metadata": {},
   "source": []
  }
 ],
 "metadata": {
  "kernelspec": {
   "display_name": "base",
   "language": "python",
   "name": "python3"
  },
  "language_info": {
   "codemirror_mode": {
    "name": "ipython",
    "version": 3
   },
   "file_extension": ".py",
   "mimetype": "text/x-python",
   "name": "python",
   "nbconvert_exporter": "python",
   "pygments_lexer": "ipython3",
   "version": "3.11.7"
  }
 },
 "nbformat": 4,
 "nbformat_minor": 2
}
